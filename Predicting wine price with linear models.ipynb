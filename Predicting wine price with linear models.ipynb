{
 "cells": [
  {
   "cell_type": "markdown",
   "metadata": {},
   "source": [
    "This data is from: https://www.kaggle.com/zynicide/wine-reviews. The data's scraped from WineEthusiast and was made available for use on Kaggle.\n",
    "\n",
    "Continuing on from before, let's try to see if we can predict the wine variety."
   ]
  },
  {
   "cell_type": "code",
   "execution_count": 6,
   "metadata": {
    "collapsed": true
   },
   "outputs": [],
   "source": [
    "import pandas as pd\n",
    "import numpy as np\n",
    "import matplotlib.pyplot as plt\n",
    "%matplotlib inline"
   ]
  },
  {
   "cell_type": "code",
   "execution_count": 7,
   "metadata": {},
   "outputs": [
    {
     "data": {
      "text/html": [
       "<div>\n",
       "<style>\n",
       "    .dataframe thead tr:only-child th {\n",
       "        text-align: right;\n",
       "    }\n",
       "\n",
       "    .dataframe thead th {\n",
       "        text-align: left;\n",
       "    }\n",
       "\n",
       "    .dataframe tbody tr th {\n",
       "        vertical-align: top;\n",
       "    }\n",
       "</style>\n",
       "<table border=\"1\" class=\"dataframe\">\n",
       "  <thead>\n",
       "    <tr style=\"text-align: right;\">\n",
       "      <th></th>\n",
       "      <th>Unnamed: 0</th>\n",
       "      <th>country</th>\n",
       "      <th>description</th>\n",
       "      <th>designation</th>\n",
       "      <th>points</th>\n",
       "      <th>price</th>\n",
       "      <th>province</th>\n",
       "      <th>region_1</th>\n",
       "      <th>region_2</th>\n",
       "      <th>variety</th>\n",
       "      <th>winery</th>\n",
       "    </tr>\n",
       "  </thead>\n",
       "  <tbody>\n",
       "    <tr>\n",
       "      <th>0</th>\n",
       "      <td>0</td>\n",
       "      <td>US</td>\n",
       "      <td>This tremendous 100% varietal wine hails from ...</td>\n",
       "      <td>Martha's Vineyard</td>\n",
       "      <td>96</td>\n",
       "      <td>235.0</td>\n",
       "      <td>California</td>\n",
       "      <td>Napa Valley</td>\n",
       "      <td>Napa</td>\n",
       "      <td>Cabernet Sauvignon</td>\n",
       "      <td>Heitz</td>\n",
       "    </tr>\n",
       "    <tr>\n",
       "      <th>1</th>\n",
       "      <td>1</td>\n",
       "      <td>Spain</td>\n",
       "      <td>Ripe aromas of fig, blackberry and cassis are ...</td>\n",
       "      <td>Carodorum Selección Especial Reserva</td>\n",
       "      <td>96</td>\n",
       "      <td>110.0</td>\n",
       "      <td>Northern Spain</td>\n",
       "      <td>Toro</td>\n",
       "      <td>NaN</td>\n",
       "      <td>Tinta de Toro</td>\n",
       "      <td>Bodega Carmen Rodríguez</td>\n",
       "    </tr>\n",
       "    <tr>\n",
       "      <th>2</th>\n",
       "      <td>2</td>\n",
       "      <td>US</td>\n",
       "      <td>Mac Watson honors the memory of a wine once ma...</td>\n",
       "      <td>Special Selected Late Harvest</td>\n",
       "      <td>96</td>\n",
       "      <td>90.0</td>\n",
       "      <td>California</td>\n",
       "      <td>Knights Valley</td>\n",
       "      <td>Sonoma</td>\n",
       "      <td>Sauvignon Blanc</td>\n",
       "      <td>Macauley</td>\n",
       "    </tr>\n",
       "    <tr>\n",
       "      <th>3</th>\n",
       "      <td>3</td>\n",
       "      <td>US</td>\n",
       "      <td>This spent 20 months in 30% new French oak, an...</td>\n",
       "      <td>Reserve</td>\n",
       "      <td>96</td>\n",
       "      <td>65.0</td>\n",
       "      <td>Oregon</td>\n",
       "      <td>Willamette Valley</td>\n",
       "      <td>Willamette Valley</td>\n",
       "      <td>Pinot Noir</td>\n",
       "      <td>Ponzi</td>\n",
       "    </tr>\n",
       "    <tr>\n",
       "      <th>4</th>\n",
       "      <td>4</td>\n",
       "      <td>France</td>\n",
       "      <td>This is the top wine from La Bégude, named aft...</td>\n",
       "      <td>La Brûlade</td>\n",
       "      <td>95</td>\n",
       "      <td>66.0</td>\n",
       "      <td>Provence</td>\n",
       "      <td>Bandol</td>\n",
       "      <td>NaN</td>\n",
       "      <td>Provence red blend</td>\n",
       "      <td>Domaine de la Bégude</td>\n",
       "    </tr>\n",
       "  </tbody>\n",
       "</table>\n",
       "</div>"
      ],
      "text/plain": [
       "   Unnamed: 0 country                                        description  \\\n",
       "0           0      US  This tremendous 100% varietal wine hails from ...   \n",
       "1           1   Spain  Ripe aromas of fig, blackberry and cassis are ...   \n",
       "2           2      US  Mac Watson honors the memory of a wine once ma...   \n",
       "3           3      US  This spent 20 months in 30% new French oak, an...   \n",
       "4           4  France  This is the top wine from La Bégude, named aft...   \n",
       "\n",
       "                            designation  points  price        province  \\\n",
       "0                     Martha's Vineyard      96  235.0      California   \n",
       "1  Carodorum Selección Especial Reserva      96  110.0  Northern Spain   \n",
       "2         Special Selected Late Harvest      96   90.0      California   \n",
       "3                               Reserve      96   65.0          Oregon   \n",
       "4                            La Brûlade      95   66.0        Provence   \n",
       "\n",
       "            region_1           region_2             variety  \\\n",
       "0        Napa Valley               Napa  Cabernet Sauvignon   \n",
       "1               Toro                NaN       Tinta de Toro   \n",
       "2     Knights Valley             Sonoma     Sauvignon Blanc   \n",
       "3  Willamette Valley  Willamette Valley          Pinot Noir   \n",
       "4             Bandol                NaN  Provence red blend   \n",
       "\n",
       "                    winery  \n",
       "0                    Heitz  \n",
       "1  Bodega Carmen Rodríguez  \n",
       "2                 Macauley  \n",
       "3                    Ponzi  \n",
       "4     Domaine de la Bégude  "
      ]
     },
     "execution_count": 7,
     "metadata": {},
     "output_type": "execute_result"
    }
   ],
   "source": [
    "filename = \"winemag-data_first150k.csv\"\n",
    "path = \"C:/Data/Projects/Wine/\"\n",
    "data = pd.read_csv(path + filename)\n",
    "data.head(5)"
   ]
  },
  {
   "cell_type": "code",
   "execution_count": 8,
   "metadata": {},
   "outputs": [
    {
     "data": {
      "text/html": [
       "<div>\n",
       "<style>\n",
       "    .dataframe thead tr:only-child th {\n",
       "        text-align: right;\n",
       "    }\n",
       "\n",
       "    .dataframe thead th {\n",
       "        text-align: left;\n",
       "    }\n",
       "\n",
       "    .dataframe tbody tr th {\n",
       "        vertical-align: top;\n",
       "    }\n",
       "</style>\n",
       "<table border=\"1\" class=\"dataframe\">\n",
       "  <thead>\n",
       "    <tr style=\"text-align: right;\">\n",
       "      <th></th>\n",
       "      <th>Unnamed: 0</th>\n",
       "      <th>points</th>\n",
       "      <th>price</th>\n",
       "    </tr>\n",
       "  </thead>\n",
       "  <tbody>\n",
       "    <tr>\n",
       "      <th>count</th>\n",
       "      <td>150930.000000</td>\n",
       "      <td>150930.000000</td>\n",
       "      <td>137235.000000</td>\n",
       "    </tr>\n",
       "    <tr>\n",
       "      <th>mean</th>\n",
       "      <td>75464.500000</td>\n",
       "      <td>87.888418</td>\n",
       "      <td>33.131482</td>\n",
       "    </tr>\n",
       "    <tr>\n",
       "      <th>std</th>\n",
       "      <td>43569.882402</td>\n",
       "      <td>3.222392</td>\n",
       "      <td>36.322536</td>\n",
       "    </tr>\n",
       "    <tr>\n",
       "      <th>min</th>\n",
       "      <td>0.000000</td>\n",
       "      <td>80.000000</td>\n",
       "      <td>4.000000</td>\n",
       "    </tr>\n",
       "    <tr>\n",
       "      <th>25%</th>\n",
       "      <td>37732.250000</td>\n",
       "      <td>86.000000</td>\n",
       "      <td>16.000000</td>\n",
       "    </tr>\n",
       "    <tr>\n",
       "      <th>50%</th>\n",
       "      <td>75464.500000</td>\n",
       "      <td>88.000000</td>\n",
       "      <td>24.000000</td>\n",
       "    </tr>\n",
       "    <tr>\n",
       "      <th>75%</th>\n",
       "      <td>113196.750000</td>\n",
       "      <td>90.000000</td>\n",
       "      <td>40.000000</td>\n",
       "    </tr>\n",
       "    <tr>\n",
       "      <th>max</th>\n",
       "      <td>150929.000000</td>\n",
       "      <td>100.000000</td>\n",
       "      <td>2300.000000</td>\n",
       "    </tr>\n",
       "  </tbody>\n",
       "</table>\n",
       "</div>"
      ],
      "text/plain": [
       "          Unnamed: 0         points          price\n",
       "count  150930.000000  150930.000000  137235.000000\n",
       "mean    75464.500000      87.888418      33.131482\n",
       "std     43569.882402       3.222392      36.322536\n",
       "min         0.000000      80.000000       4.000000\n",
       "25%     37732.250000      86.000000      16.000000\n",
       "50%     75464.500000      88.000000      24.000000\n",
       "75%    113196.750000      90.000000      40.000000\n",
       "max    150929.000000     100.000000    2300.000000"
      ]
     },
     "execution_count": 8,
     "metadata": {},
     "output_type": "execute_result"
    }
   ],
   "source": [
    "data.describe()"
   ]
  },
  {
   "cell_type": "markdown",
   "metadata": {},
   "source": [
    "We can immediately see a few things- the cheapest wine is 4 dollars, while the most expensive is 2300 dollars, with the mean price being 33. In terms of points, the worst wine comes in a 80 points, while the best comes in at 100. Even at 80 points I'd say that's pretty high- people like their wine!\n",
    "\n",
    "# Cleaning #\n",
    "\n",
    "Let's clean the data. First, let's check if there are any null values in the dataframe."
   ]
  },
  {
   "cell_type": "code",
   "execution_count": 9,
   "metadata": {},
   "outputs": [
    {
     "name": "stdout",
     "output_type": "stream",
     "text": [
      "Columns with null values:\n",
      " Unnamed: 0         0\n",
      "country            5\n",
      "description        0\n",
      "designation    45735\n",
      "points             0\n",
      "price          13695\n",
      "province           5\n",
      "region_1       25060\n",
      "region_2       89977\n",
      "variety            0\n",
      "winery             0\n",
      "dtype: int64\n",
      "Number of observations:\n",
      " 150930\n"
     ]
    }
   ],
   "source": [
    "are_null_values = data.isnull().values.any()\n",
    "num_nulls = data.isnull().sum()\n",
    "print(\"Columns with null values:\\n\",num_nulls)\n",
    "print(\"Number of observations:\\n\",len(data))"
   ]
  },
  {
   "cell_type": "markdown",
   "metadata": {},
   "source": [
    "We have 45735 null values for designation, 13695 for price, 25060 for region_1, and 89977 for region_2. That means only about 40% of the data has a region_2 value- I don't want to drop all null values then, or else I'll be getting rid of 60% of my data. I don't think region_2 is that important, since we already have the country, province, and region_1. I'll go ahead and just drop region_2 from the dataframe. Then I'll drop rows that have null values- this will result in losing less data. Let's also drop \"Unnamed: 0\" since this is just a duplication of the index."
   ]
  },
  {
   "cell_type": "code",
   "execution_count": 10,
   "metadata": {},
   "outputs": [
    {
     "data": {
      "text/plain": [
       "(150930, 9)"
      ]
     },
     "execution_count": 10,
     "metadata": {},
     "output_type": "execute_result"
    }
   ],
   "source": [
    "data = data.drop(\"region_2\", axis = 1)\n",
    "data = data[pd.notnull(data)] # drop if null values\n",
    "data = data.drop(\"Unnamed: 0\", axis = 1) # drop the first column\n",
    "data.shape"
   ]
  },
  {
   "cell_type": "markdown",
   "metadata": {},
   "source": [
    "Finally, we want to make sure that every description is unique. Some descriptions may be duplicated, which means a wine has been entered in the dataset twice. Let's ensure that every description appears only once, but first let's check to see if there are duplicates, then drop them accordingly."
   ]
  },
  {
   "cell_type": "code",
   "execution_count": 11,
   "metadata": {},
   "outputs": [
    {
     "data": {
      "text/html": [
       "<div>\n",
       "<style>\n",
       "    .dataframe thead tr:only-child th {\n",
       "        text-align: right;\n",
       "    }\n",
       "\n",
       "    .dataframe thead th {\n",
       "        text-align: left;\n",
       "    }\n",
       "\n",
       "    .dataframe tbody tr th {\n",
       "        vertical-align: top;\n",
       "    }\n",
       "</style>\n",
       "<table border=\"1\" class=\"dataframe\">\n",
       "  <thead>\n",
       "    <tr style=\"text-align: right;\">\n",
       "      <th></th>\n",
       "      <th>country</th>\n",
       "      <th>description</th>\n",
       "      <th>designation</th>\n",
       "      <th>points</th>\n",
       "      <th>price</th>\n",
       "      <th>province</th>\n",
       "      <th>region_1</th>\n",
       "      <th>variety</th>\n",
       "      <th>winery</th>\n",
       "    </tr>\n",
       "  </thead>\n",
       "  <tbody>\n",
       "    <tr>\n",
       "      <th>147725</th>\n",
       "      <td>Chile</td>\n",
       "      <td>$11. Opens with a highly perfumed bouquet of l...</td>\n",
       "      <td>Estate Reserve</td>\n",
       "      <td>84</td>\n",
       "      <td>11.0</td>\n",
       "      <td>Maipo Valley</td>\n",
       "      <td>NaN</td>\n",
       "      <td>Chardonnay</td>\n",
       "      <td>La Playa</td>\n",
       "    </tr>\n",
       "    <tr>\n",
       "      <th>62345</th>\n",
       "      <td>Chile</td>\n",
       "      <td>$11. Opens with a highly perfumed bouquet of l...</td>\n",
       "      <td>Estate Reserve</td>\n",
       "      <td>84</td>\n",
       "      <td>11.0</td>\n",
       "      <td>Maipo Valley</td>\n",
       "      <td>NaN</td>\n",
       "      <td>Chardonnay</td>\n",
       "      <td>La Playa</td>\n",
       "    </tr>\n",
       "    <tr>\n",
       "      <th>74993</th>\n",
       "      <td>US</td>\n",
       "      <td>). Very good wine from a winery increasingly k...</td>\n",
       "      <td>Rockpile Ridge Vineyard</td>\n",
       "      <td>92</td>\n",
       "      <td>47.0</td>\n",
       "      <td>California</td>\n",
       "      <td>Rockpile</td>\n",
       "      <td>Cabernet Sauvignon</td>\n",
       "      <td>Mauritson</td>\n",
       "    </tr>\n",
       "    <tr>\n",
       "      <th>18803</th>\n",
       "      <td>US</td>\n",
       "      <td>). Very good wine from a winery increasingly k...</td>\n",
       "      <td>Rockpile Ridge Vineyard</td>\n",
       "      <td>92</td>\n",
       "      <td>47.0</td>\n",
       "      <td>California</td>\n",
       "      <td>Rockpile</td>\n",
       "      <td>Cabernet Sauvignon</td>\n",
       "      <td>Mauritson</td>\n",
       "    </tr>\n",
       "    <tr>\n",
       "      <th>26530</th>\n",
       "      <td>Austria</td>\n",
       "      <td>. Christoph Neumeister's top wine, this is a c...</td>\n",
       "      <td>Moarfeitl</td>\n",
       "      <td>93</td>\n",
       "      <td>48.0</td>\n",
       "      <td>Südoststeiermark</td>\n",
       "      <td>NaN</td>\n",
       "      <td>Sauvignon Blanc</td>\n",
       "      <td>Neumeister</td>\n",
       "    </tr>\n",
       "  </tbody>\n",
       "</table>\n",
       "</div>"
      ],
      "text/plain": [
       "        country                                        description  \\\n",
       "147725    Chile  $11. Opens with a highly perfumed bouquet of l...   \n",
       "62345     Chile  $11. Opens with a highly perfumed bouquet of l...   \n",
       "74993        US  ). Very good wine from a winery increasingly k...   \n",
       "18803        US  ). Very good wine from a winery increasingly k...   \n",
       "26530   Austria  . Christoph Neumeister's top wine, this is a c...   \n",
       "\n",
       "                    designation  points  price          province  region_1  \\\n",
       "147725           Estate Reserve      84   11.0      Maipo Valley       NaN   \n",
       "62345            Estate Reserve      84   11.0      Maipo Valley       NaN   \n",
       "74993   Rockpile Ridge Vineyard      92   47.0        California  Rockpile   \n",
       "18803   Rockpile Ridge Vineyard      92   47.0        California  Rockpile   \n",
       "26530                 Moarfeitl      93   48.0  Südoststeiermark       NaN   \n",
       "\n",
       "                   variety      winery  \n",
       "147725          Chardonnay    La Playa  \n",
       "62345           Chardonnay    La Playa  \n",
       "74993   Cabernet Sauvignon   Mauritson  \n",
       "18803   Cabernet Sauvignon   Mauritson  \n",
       "26530      Sauvignon Blanc  Neumeister  "
      ]
     },
     "execution_count": 11,
     "metadata": {},
     "output_type": "execute_result"
    }
   ],
   "source": [
    "data[data.duplicated('description', keep = False)].sort_values('description').head(5)"
   ]
  },
  {
   "cell_type": "code",
   "execution_count": 12,
   "metadata": {},
   "outputs": [
    {
     "data": {
      "text/plain": [
       "(89108, 9)"
      ]
     },
     "execution_count": 12,
     "metadata": {},
     "output_type": "execute_result"
    }
   ],
   "source": [
    "data = data.drop_duplicates(\"description\") # drop duplicate descriptions\n",
    "data[\"designation\"] = data[\"designation\"].str.lower() # make sure all lower\n",
    "data = data[pd.notnull(data)] # drop null values\n",
    "data = data[data.price.notnull()] # ensure the price and points rows that are null are dropped\n",
    "ata = data[data.points.notnull()]\n",
    "data.shape"
   ]
  },
  {
   "cell_type": "markdown",
   "metadata": {},
   "source": [
    "We also need to ensure that the variety name doesn't occur in the description, so let's add variety name to our list of stop words to remove from the description."
   ]
  },
  {
   "cell_type": "code",
   "execution_count": 13,
   "metadata": {},
   "outputs": [
    {
     "data": {
      "text/plain": [
       "['agiorgitiko', 'aglianico', 'aidani', 'airen', 'albana']"
      ]
     },
     "execution_count": 13,
     "metadata": {},
     "output_type": "execute_result"
    }
   ],
   "source": [
    "variety_words = set()\n",
    "for wine_variety in data.variety:\n",
    "    wine_variety = wine_variety.lower()\n",
    "    wine_variety = wine_variety.split()\n",
    "    for word in wine_variety:\n",
    "        variety_words.add(word)\n",
    "\n",
    "variety_list = sorted(variety_words)\n",
    "variety_list[:5]"
   ]
  },
  {
   "cell_type": "code",
   "execution_count": 14,
   "metadata": {
    "collapsed": true
   },
   "outputs": [],
   "source": [
    "# Remove stop words\n",
    "# Set the stop words\n",
    "from nltk.corpus import stopwords\n",
    "extras = ['.', ',', '\"', \"'\", '?', '!', ':', ';', '(', ')', '[', ']', '{', '}', 'cab',\"%\", \"that's\"]\n",
    "stopwords = set(stopwords.words('english'))\n",
    "stopwords.update(variety_list)\n",
    "stopwords.update(extras)\n",
    "# Now remove the stop words\n",
    "data[\"description\"] = data[\"description\"].apply(lambda x: x.lower())    \n",
    "data[\"description\"] = data[\"description\"].apply(lambda x: ' '.join([word for word in x.split() if word not in (stopwords)]))"
   ]
  },
  {
   "cell_type": "code",
   "execution_count": 15,
   "metadata": {},
   "outputs": [
    {
     "data": {
      "text/html": [
       "<div>\n",
       "<style>\n",
       "    .dataframe thead tr:only-child th {\n",
       "        text-align: right;\n",
       "    }\n",
       "\n",
       "    .dataframe thead th {\n",
       "        text-align: left;\n",
       "    }\n",
       "\n",
       "    .dataframe tbody tr th {\n",
       "        vertical-align: top;\n",
       "    }\n",
       "</style>\n",
       "<table border=\"1\" class=\"dataframe\">\n",
       "  <thead>\n",
       "    <tr style=\"text-align: right;\">\n",
       "      <th></th>\n",
       "      <th>country</th>\n",
       "      <th>description</th>\n",
       "      <th>designation</th>\n",
       "      <th>points</th>\n",
       "      <th>price</th>\n",
       "      <th>province</th>\n",
       "      <th>region_1</th>\n",
       "      <th>variety</th>\n",
       "      <th>winery</th>\n",
       "    </tr>\n",
       "  </thead>\n",
       "  <tbody>\n",
       "    <tr>\n",
       "      <th>149634</th>\n",
       "      <td>France</td>\n",
       "      <td>atypically light body reticent nose, gewürz in...</td>\n",
       "      <td>NaN</td>\n",
       "      <td>84</td>\n",
       "      <td>15.0</td>\n",
       "      <td>Alsace</td>\n",
       "      <td>Alsace</td>\n",
       "      <td>Gewürztraminer</td>\n",
       "      <td>W. Gisselbrecht</td>\n",
       "    </tr>\n",
       "    <tr>\n",
       "      <th>149635</th>\n",
       "      <td>US</td>\n",
       "      <td>dry rustically tannic, gritty, chewy feeling, ...</td>\n",
       "      <td>bungalow red</td>\n",
       "      <td>84</td>\n",
       "      <td>15.0</td>\n",
       "      <td>California</td>\n",
       "      <td>Santa Barbara County</td>\n",
       "      <td>Syrah-Grenache</td>\n",
       "      <td>Casa Barranca</td>\n",
       "    </tr>\n",
       "    <tr>\n",
       "      <th>149637</th>\n",
       "      <td>US</td>\n",
       "      <td>outside vineyard, wines like built company's p...</td>\n",
       "      <td>NaN</td>\n",
       "      <td>84</td>\n",
       "      <td>6.0</td>\n",
       "      <td>California</td>\n",
       "      <td>California</td>\n",
       "      <td>Merlot</td>\n",
       "      <td>Delicato</td>\n",
       "    </tr>\n",
       "    <tr>\n",
       "      <th>149638</th>\n",
       "      <td>Argentina</td>\n",
       "      <td>heavy basic, pineapple aromas. full-flavored t...</td>\n",
       "      <td>NaN</td>\n",
       "      <td>84</td>\n",
       "      <td>9.0</td>\n",
       "      <td>Mendoza Province</td>\n",
       "      <td>Uco Valley</td>\n",
       "      <td>Sauvignon Blanc</td>\n",
       "      <td>Finca El Portillo</td>\n",
       "    </tr>\n",
       "    <tr>\n",
       "      <th>149639</th>\n",
       "      <td>Australia</td>\n",
       "      <td>smooth mouth, chard starts citrus dust aromas ...</td>\n",
       "      <td>NaN</td>\n",
       "      <td>84</td>\n",
       "      <td>8.0</td>\n",
       "      <td>Australia Other</td>\n",
       "      <td>South Eastern Australia</td>\n",
       "      <td>Chardonnay</td>\n",
       "      <td>Jacob's Creek</td>\n",
       "    </tr>\n",
       "  </tbody>\n",
       "</table>\n",
       "</div>"
      ],
      "text/plain": [
       "          country                                        description  \\\n",
       "149634     France  atypically light body reticent nose, gewürz in...   \n",
       "149635         US  dry rustically tannic, gritty, chewy feeling, ...   \n",
       "149637         US  outside vineyard, wines like built company's p...   \n",
       "149638  Argentina  heavy basic, pineapple aromas. full-flavored t...   \n",
       "149639  Australia  smooth mouth, chard starts citrus dust aromas ...   \n",
       "\n",
       "         designation  points  price          province  \\\n",
       "149634           NaN      84   15.0            Alsace   \n",
       "149635  bungalow red      84   15.0        California   \n",
       "149637           NaN      84    6.0        California   \n",
       "149638           NaN      84    9.0  Mendoza Province   \n",
       "149639           NaN      84    8.0   Australia Other   \n",
       "\n",
       "                       region_1          variety             winery  \n",
       "149634                   Alsace   Gewürztraminer    W. Gisselbrecht  \n",
       "149635     Santa Barbara County   Syrah-Grenache      Casa Barranca  \n",
       "149637               California           Merlot           Delicato  \n",
       "149638               Uco Valley  Sauvignon Blanc  Finca El Portillo  \n",
       "149639  South Eastern Australia       Chardonnay      Jacob's Creek  "
      ]
     },
     "execution_count": 15,
     "metadata": {},
     "output_type": "execute_result"
    }
   ],
   "source": [
    "data.tail(5)"
   ]
  },
  {
   "cell_type": "markdown",
   "metadata": {},
   "source": [
    "# Modelling\n",
    "\n",
    "Let's see if we can determine a wine's price. To start, let's work with the province, description, points, and variety. I won't include country since province includes country. To keep the feature set managebale, I'll exclude region_1, designation, and winery.\n",
    "\n",
    "So our features are: Description, points, province, variety.\n",
    "\n",
    "Let's first do our imports."
   ]
  },
  {
   "cell_type": "code",
   "execution_count": 16,
   "metadata": {
    "collapsed": true
   },
   "outputs": [],
   "source": [
    "from sklearn.feature_extraction.text import TfidfVectorizer\n",
    "from sklearn import linear_model\n",
    "from sklearn.model_selection import train_test_split\n",
    "from sklearn import preprocessing\n",
    "from sklearn.decomposition import PCA\n",
    "import matplotlib.pyplot as plt\n",
    "from sklearn.metrics import mean_squared_error, r2_score\n",
    "%matplotlib inline"
   ]
  },
  {
   "cell_type": "markdown",
   "metadata": {},
   "source": [
    "We'll use TfidfVectorizor to process the wine descriptions to get Tfidf features. We'll use several linear models: linear regression, ridge regression, lasso, and PCA regression. As it's often useful to standardize variables with linear models, we'll try this too. Our only numerical values really are from the points column, the rest are one hot vectors (from variety and winery), and the Tfidf features as mentioned for the wine descriptions. Our error metrics will be mean square error (the smaller the better), and explained variance score (the closer to 1.0 the better). \n",
    "\n",
    "Let's prep the data for our linear models. There's a decent amount of outliers in the data so let's be weary of that."
   ]
  },
  {
   "cell_type": "code",
   "execution_count": 17,
   "metadata": {
    "collapsed": true
   },
   "outputs": [],
   "source": [
    "def prep_data(data, outlier_threshold, remove_outliers = True):\n",
    "    if remove_outliers:\n",
    "        data = data[data.price < outlier_threshold]\n",
    "    else:\n",
    "        data = data\n",
    "    X = data.drop(['country','designation','region_1','winery', 'price'], axis = 1)\n",
    "    y = data.price.astype(float)\n",
    "    # Tokenize our description before splitting\n",
    "    tfidf = TfidfVectorizer(min_df = 977) # Ignore terms that appear in less than 1% of samples. this reduces the feature space\n",
    "    descrip = tfidf.fit_transform(X.description).toarray()\n",
    "    # One hot encode the provinces and varieties\n",
    "    provinces = pd.get_dummies(X.province)\n",
    "    varieties = pd.get_dummies(X.variety)\n",
    "    # Stack the matrices\n",
    "    points_ = X.points.values\n",
    "    X = np.hstack((descrip, provinces, varieties, points_[:,None]))\n",
    "    return X, y"
   ]
  },
  {
   "cell_type": "markdown",
   "metadata": {},
   "source": [
    "Time to do some modelling! Let's write some helper functions."
   ]
  },
  {
   "cell_type": "code",
   "execution_count": 21,
   "metadata": {
    "collapsed": true
   },
   "outputs": [],
   "source": [
    "def try_linear_models(X_, y_, model_name, standardize = True):\n",
    "    if standardize == True:\n",
    "        X = preprocessing.scale(X_)\n",
    "    else:\n",
    "        X = X_\n",
    "    X_train, X_test, y_train, y_test = train_test_split(X, y_, random_state = 42)\n",
    "    if model_name == \"linear\":\n",
    "        model = linear_model.LinearRegression().fit(X_train, y_train)\n",
    "    if model_name == \"ridge\":\n",
    "        model = linear_model.Ridge(alpha = 0.1).fit(X_train, y_train)\n",
    "    if model_name == \"lasso\":\n",
    "        model = linear_model.Lasso(alpha = 0.5).fit(X_train, y_train)\n",
    "    if model_name == \"pca_reg\":\n",
    "        n_components = 16\n",
    "        pca = PCA(n_components,svd_solver='randomized',whiten=True).fit(X)\n",
    "        data = pca.transform(X)\n",
    "        X_train, X_test, y_train, y_test = train_test_split(data, y_, random_state = 42)\n",
    "        model = linear_model.LinearRegression().fit(X_train, y_train)\n",
    "    predictions = model.predict(X_test)\n",
    "    return predictions, y_test"
   ]
  },
  {
   "cell_type": "code",
   "execution_count": 22,
   "metadata": {
    "collapsed": true
   },
   "outputs": [],
   "source": [
    "def error_metrics(model, predictions, y_test):\n",
    "    print(\"Model: \", model)\n",
    "    # The mean squared error\n",
    "    print(\"--Mean squared error: %.2f\" % mean_squared_error(y_test, predictions))\n",
    "    # Explained variance score: 1 is perfect prediction\n",
    "    print('--Variance score: %.2f' % r2_score(y_test, predictions))"
   ]
  },
  {
   "cell_type": "code",
   "execution_count": 23,
   "metadata": {
    "collapsed": true
   },
   "outputs": [],
   "source": [
    "# Take a look at some of the results\n",
    "def inspect_df(predictions, y_test):\n",
    "    true_vs_pred = np.vstack((predictions, y_test))\n",
    "    true_df = pd.DataFrame(true_vs_pred)\n",
    "    true_df = true_df.transpose()\n",
    "    true_df.columns = [\"Predicted\", \"Actual\"]\n",
    "    return true_df"
   ]
  },
  {
   "cell_type": "code",
   "execution_count": 24,
   "metadata": {
    "collapsed": true
   },
   "outputs": [],
   "source": [
    "from IPython.display import display_html\n",
    "def display_side_by_side(*args):\n",
    "    html_str=''\n",
    "    for df in args:\n",
    "        html_str+=df.to_html()\n",
    "    display_html(html_str.replace('table','table style=\"display:inline\"'),raw=True)"
   ]
  },
  {
   "cell_type": "markdown",
   "metadata": {},
   "source": [
    "With that done, *now* we can do some fun stuff!"
   ]
  },
  {
   "cell_type": "code",
   "execution_count": 25,
   "metadata": {},
   "outputs": [
    {
     "name": "stdout",
     "output_type": "stream",
     "text": [
      "Model:  Ridge with standardizing\n",
      "--Mean squared error: 1015.94\n",
      "--Variance score: 0.31\n",
      "Model:  Lasso with standardizing\n",
      "--Mean squared error: 1045.60\n",
      "--Variance score: 0.29\n",
      "Model:  PCA regression with standardizing\n",
      "--Mean squared error: 1190.58\n",
      "--Variance score: 0.19\n",
      "Model:  Ridge without standardizing\n",
      "--Mean squared error: 1015.03\n",
      "--Variance score: 0.31\n",
      "Model:  Lasso without standardizing\n",
      "--Mean squared error: 1156.22\n",
      "--Variance score: 0.21\n",
      "Model:  PCA regression without standardizing\n",
      "--Mean squared error: 1132.06\n",
      "--Variance score: 0.23\n"
     ]
    }
   ],
   "source": [
    "# Get model results\n",
    "# Without removing any outliers\n",
    "X, y = prep_data(data, outlier_threshold = 0, remove_outliers = False)\n",
    "\n",
    "# With standardizing\n",
    "ridge_pred_st, y_test = try_linear_models(X, y, \"ridge\", standardize=True)\n",
    "lasso_pred_st, y_test = try_linear_models(X, y, \"lasso\", standardize=True)\n",
    "pca_pred_st, y_test = try_linear_models(X, y, \"pca_reg\", standardize=True)\n",
    "\n",
    "# Without standardizing\n",
    "ridge_pred, y_test = try_linear_models(X, y, \"ridge\", standardize=False)\n",
    "lasso_pred, y_test = try_linear_models(X, y, \"lasso\", standardize=False)\n",
    "pca_pred, y_test = try_linear_models(X, y, \"pca_reg\", standardize=False)\n",
    "\n",
    "# Error metrics\n",
    "error_metrics(\"Ridge with standardizing\", ridge_pred_st, y_test)\n",
    "error_metrics(\"Lasso with standardizing\", lasso_pred_st, y_test)\n",
    "error_metrics(\"PCA regression with standardizing\", pca_pred_st, y_test)\n",
    "\n",
    "error_metrics(\"Ridge without standardizing\", ridge_pred, y_test)\n",
    "error_metrics(\"Lasso without standardizing\", lasso_pred, y_test)\n",
    "error_metrics(\"PCA regression without standardizing\", pca_pred, y_test)"
   ]
  },
  {
   "cell_type": "markdown",
   "metadata": {},
   "source": [
    "Seems like ridge regression does the best, both with standardized and non standardized variables. Let's take a quick look at what some of our predictions actually look like."
   ]
  },
  {
   "cell_type": "code",
   "execution_count": 26,
   "metadata": {},
   "outputs": [
    {
     "data": {
      "text/html": [
       "<table style=\"display:inline\" border=\"1\" class=\"dataframe\">\n",
       "  <thead>\n",
       "    <tr style=\"text-align: right;\">\n",
       "      <th></th>\n",
       "      <th>Predicted</th>\n",
       "      <th>Actual</th>\n",
       "    </tr>\n",
       "  </thead>\n",
       "  <tbody>\n",
       "    <tr>\n",
       "      <th>22267</th>\n",
       "      <td>20.093576</td>\n",
       "      <td>24.0</td>\n",
       "    </tr>\n",
       "    <tr>\n",
       "      <th>22268</th>\n",
       "      <td>5.655745</td>\n",
       "      <td>8.0</td>\n",
       "    </tr>\n",
       "    <tr>\n",
       "      <th>22269</th>\n",
       "      <td>23.180856</td>\n",
       "      <td>20.0</td>\n",
       "    </tr>\n",
       "    <tr>\n",
       "      <th>22270</th>\n",
       "      <td>13.199893</td>\n",
       "      <td>13.0</td>\n",
       "    </tr>\n",
       "    <tr>\n",
       "      <th>22271</th>\n",
       "      <td>101.267411</td>\n",
       "      <td>72.0</td>\n",
       "    </tr>\n",
       "    <tr>\n",
       "      <th>22272</th>\n",
       "      <td>-3.431131</td>\n",
       "      <td>10.0</td>\n",
       "    </tr>\n",
       "    <tr>\n",
       "      <th>22273</th>\n",
       "      <td>29.570737</td>\n",
       "      <td>36.0</td>\n",
       "    </tr>\n",
       "    <tr>\n",
       "      <th>22274</th>\n",
       "      <td>35.777497</td>\n",
       "      <td>50.0</td>\n",
       "    </tr>\n",
       "    <tr>\n",
       "      <th>22275</th>\n",
       "      <td>75.795340</td>\n",
       "      <td>60.0</td>\n",
       "    </tr>\n",
       "    <tr>\n",
       "      <th>22276</th>\n",
       "      <td>54.749942</td>\n",
       "      <td>75.0</td>\n",
       "    </tr>\n",
       "  </tbody>\n",
       "</table style=\"display:inline\"><table style=\"display:inline\" border=\"1\" class=\"dataframe\">\n",
       "  <thead>\n",
       "    <tr style=\"text-align: right;\">\n",
       "      <th></th>\n",
       "      <th>Predicted</th>\n",
       "      <th>Actual</th>\n",
       "    </tr>\n",
       "  </thead>\n",
       "  <tbody>\n",
       "    <tr>\n",
       "      <th>22267</th>\n",
       "      <td>20.070574</td>\n",
       "      <td>24.0</td>\n",
       "    </tr>\n",
       "    <tr>\n",
       "      <th>22268</th>\n",
       "      <td>5.695289</td>\n",
       "      <td>8.0</td>\n",
       "    </tr>\n",
       "    <tr>\n",
       "      <th>22269</th>\n",
       "      <td>23.205269</td>\n",
       "      <td>20.0</td>\n",
       "    </tr>\n",
       "    <tr>\n",
       "      <th>22270</th>\n",
       "      <td>13.186430</td>\n",
       "      <td>13.0</td>\n",
       "    </tr>\n",
       "    <tr>\n",
       "      <th>22271</th>\n",
       "      <td>101.262748</td>\n",
       "      <td>72.0</td>\n",
       "    </tr>\n",
       "    <tr>\n",
       "      <th>22272</th>\n",
       "      <td>-3.411859</td>\n",
       "      <td>10.0</td>\n",
       "    </tr>\n",
       "    <tr>\n",
       "      <th>22273</th>\n",
       "      <td>29.576133</td>\n",
       "      <td>36.0</td>\n",
       "    </tr>\n",
       "    <tr>\n",
       "      <th>22274</th>\n",
       "      <td>35.767893</td>\n",
       "      <td>50.0</td>\n",
       "    </tr>\n",
       "    <tr>\n",
       "      <th>22275</th>\n",
       "      <td>75.803441</td>\n",
       "      <td>60.0</td>\n",
       "    </tr>\n",
       "    <tr>\n",
       "      <th>22276</th>\n",
       "      <td>54.746645</td>\n",
       "      <td>75.0</td>\n",
       "    </tr>\n",
       "  </tbody>\n",
       "</table style=\"display:inline\">"
      ]
     },
     "metadata": {},
     "output_type": "display_data"
    }
   ],
   "source": [
    "# Let's look at ridge regression with standardized variables, and without\n",
    "# LEFT: With standardized variables\n",
    "# RIGHT: Without\n",
    "display_side_by_side(inspect_df(ridge_pred_st, y_test).tail(10),inspect_df(ridge_pred, y_test).tail(10))"
   ]
  },
  {
   "cell_type": "markdown",
   "metadata": {},
   "source": [
    "So you can see that our ridge regression for some labels is quite good, but for some is way off! Actually, there are some pretty expensive wines in the dataset. In fact, 99.99 % of the data comes in below 1000 dollars. So let's see how the model performs when we remove these more expensive wines."
   ]
  },
  {
   "cell_type": "code",
   "execution_count": 27,
   "metadata": {},
   "outputs": [
    {
     "name": "stdout",
     "output_type": "stream",
     "text": [
      "Model:  Ridge with standardizing\n",
      "--Mean squared error: 748.77\n",
      "--Variance score: 0.36\n",
      "Model:  Lasso with standardizing\n",
      "--Mean squared error: 778.95\n",
      "--Variance score: 0.33\n",
      "Model:  PCA regression with standardizing\n",
      "--Mean squared error: 902.73\n",
      "--Variance score: 0.22\n",
      "Model:  Ridge without standardizing\n",
      "--Mean squared error: 748.38\n",
      "--Variance score: 0.36\n",
      "Model:  Lasso without standardizing\n",
      "--Mean squared error: 879.00\n",
      "--Variance score: 0.24\n",
      "Model:  PCA regression without standardizing\n",
      "--Mean squared error: 857.97\n",
      "--Variance score: 0.26\n"
     ]
    }
   ],
   "source": [
    "# Get model results\n",
    "# Remove bottles that cost more than 1000 dollars\n",
    "X, y = prep_data(data, outlier_threshold = 1000.0, remove_outliers = True)\n",
    "# With standardizing\n",
    "ridge_pred_st, y_test = try_linear_models(X, y, \"ridge\", standardize=True)\n",
    "lasso_pred_st, y_test = try_linear_models(X, y, \"lasso\", standardize=True)\n",
    "pca_pred_st, y_test = try_linear_models(X, y, \"pca_reg\", standardize=True)\n",
    "# Without standardizing\n",
    "ridge_pred, y_test = try_linear_models(X, y, \"ridge\", standardize=False)\n",
    "lasso_pred, y_test = try_linear_models(X, y, \"lasso\", standardize=False)\n",
    "pca_pred, y_test = try_linear_models(X, y, \"pca_reg\", standardize=False)\n",
    "\n",
    "# Error metrics\n",
    "error_metrics(\"Ridge with standardizing\", ridge_pred_st, y_test)\n",
    "error_metrics(\"Lasso with standardizing\", lasso_pred_st, y_test)\n",
    "error_metrics(\"PCA regression with standardizing\", pca_pred_st, y_test)\n",
    "error_metrics(\"Ridge without standardizing\", ridge_pred, y_test)\n",
    "error_metrics(\"Lasso without standardizing\", lasso_pred, y_test)\n",
    "error_metrics(\"PCA regression without standardizing\", pca_pred, y_test)"
   ]
  },
  {
   "cell_type": "markdown",
   "metadata": {},
   "source": [
    "Ridge regression still seems to come out on top. Let's take a look at the residual plot. Ideally the residuals will be random about the horizontal line at zero."
   ]
  },
  {
   "cell_type": "code",
   "execution_count": 35,
   "metadata": {},
   "outputs": [
    {
     "data": {
      "text/plain": [
       "(array([-1000.,  -800.,  -600.,  -400.,  -200.,     0.,   200.]),\n",
       " <a list of 7 Text yticklabel objects>)"
      ]
     },
     "execution_count": 35,
     "metadata": {},
     "output_type": "execute_result"
    },
    {
     "data": {
      "image/png": "[encoded data removed]",
      "text/plain": [
       "<matplotlib.figure.Figure at 0x201aaa256d8>"
      ]
     },
     "metadata": {},
     "output_type": "display_data"
    }
   ],
   "source": [
    "plt.scatter(ridge_pred_st, ridge_pred_st - y_test)\n",
    "plt.hlines(y= 0, xmin = min(ridge_pred_st), xmax = max(ridge_pred_st))\n",
    "plt.ylabel(\"Residuals\", fontsize = 20)\n",
    "plt.xlabel(\"Predicted\", fontsize = 20)\n",
    "plt.xticks(fontsize = 15)\n",
    "plt.yticks(fontsize = 15)"
   ]
  },
  {
   "cell_type": "markdown",
   "metadata": {},
   "source": [
    "We definitely see some heteroskedasticity going on here. That's not good!"
   ]
  },
  {
   "cell_type": "markdown",
   "metadata": {},
   "source": [
    "# Conclusion\n",
    "\n"
   ]
  },
  {
   "cell_type": "markdown",
   "metadata": {
    "collapsed": true
   },
   "source": [
    "Overall, how did we do? Honestly, not the best. The fact that the residuals show heteroskedasticity for our \"best\" result with ridge regression shows that there's something going on in the data that the linear models have failed to capture. This means there could be feature engineering that needs to be done, such as transformations, or we need some new predictors. \n",
    "##### Data to add\n",
    "Useful data to add could be the wine's vintage (although I think it wouldn't be too hard to go out and fetch that manually), as well as the sentiment of the description- although I suppose that would be all neutral or positive, but still, it could have an effect on the price. \n",
    "##### Limitations\n",
    "Another thing to consider could be a model for each range of wine- i.e., a wine connoisseur could tell me what price ranges are typical for wines, since I'm not an expert. And that brings up another limitation. I don't know that much about wine, and I'm not even 100% sure what one of the features in the data set, designation, means. As a result, I left it out of the linear models.\n",
    "##### Standardizing\n",
    "It's interesting to me that standardizing doesn't have much of an effect, but this makes sense because only points are integer values, the rest of the features are either Tfidf features or one hot vectors. Lasso even did worse with scaling. Furthermore, when you scale data you assume the data are on different scales to start with. Of course if there's only one quantitative variable then it will be on the same scale as itself!\n",
    "##### The business side\n",
    "Now another question I always like to think about: Why even do this? How can you make money from predicting wine prices? A winery can't change where it's located, all it can change is its description and the points its wine receives. Points is a bit out of their control too, since wine critics are the ones that assign this value. So this comes down to description. An idea could be to look into the relationship between description and price, and get into the text analytics of it. If we can identify certain words or characteristics of a description associated with expensive wine, then a winery could price its wine accordingly (aka, make it more expensive!) and then make money from this."
   ]
  }
 ],
 "metadata": {
  "kernelspec": {
   "display_name": "Python 3",
   "language": "python",
   "name": "python3"
  },
  "language_info": {
   "codemirror_mode": {
    "name": "ipython",
    "version": 3
   },
   "file_extension": ".py",
   "mimetype": "text/x-python",
   "name": "python",
   "nbconvert_exporter": "python",
   "pygments_lexer": "ipython3",
   "version": "3.6.0"
  }
 },
 "nbformat": 4,
 "nbformat_minor": 2
}
